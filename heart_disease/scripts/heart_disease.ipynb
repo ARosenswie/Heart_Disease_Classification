{
 "cells": [
  {
   "cell_type": "code",
   "execution_count": 22,
   "id": "46d38b0f-12f5-436c-9898-3aedde4e6121",
   "metadata": {},
   "outputs": [],
   "source": [
    "import numpy as np \n",
    "import pandas as pd \n",
    "import seaborn as sns\n",
    "import matplotlib.pyplot as plt\n",
    "from sklearn.model_selection import train_test_split, cross_val_score, GridSearchCV\n",
    "from sklearn.tree import DecisionTreeClassifier\n",
    "from sklearn.ensemble import RandomForestClassifier\n",
    "import xgboost as xgb\n",
    "from sklearn.neural_network import MLPClassifier\n",
    "from sklearn.preprocessing import MinMaxScaler\n",
    "from sklearn.metrics import accuracy_score, precision_score, recall_score, f1_score, confusion_matrix, roc_auc_score, roc_curve, mean_squared_error, mean_absolute_error\n",
    "import os\n",
    "plt.rcParams[\"font.family\"] = \"serif\"\n",
    "plt.rcParams[\"pdf.fonttype\"] = 42"
   ]
  },
  {
   "cell_type": "code",
   "execution_count": 23,
   "id": "40cb7770-2256-4b2f-b2e7-1993cbd2eeb8",
   "metadata": {},
   "outputs": [
    {
     "data": {
      "text/html": [
       "<div>\n",
       "<style scoped>\n",
       "    .dataframe tbody tr th:only-of-type {\n",
       "        vertical-align: middle;\n",
       "    }\n",
       "\n",
       "    .dataframe tbody tr th {\n",
       "        vertical-align: top;\n",
       "    }\n",
       "\n",
       "    .dataframe thead th {\n",
       "        text-align: right;\n",
       "    }\n",
       "</style>\n",
       "<table border=\"1\" class=\"dataframe\">\n",
       "  <thead>\n",
       "    <tr style=\"text-align: right;\">\n",
       "      <th></th>\n",
       "      <th>male</th>\n",
       "      <th>age</th>\n",
       "      <th>education</th>\n",
       "      <th>currentSmoker</th>\n",
       "      <th>cigsPerDay</th>\n",
       "      <th>BPMeds</th>\n",
       "      <th>prevalentStroke</th>\n",
       "      <th>prevalentHyp</th>\n",
       "      <th>diabetes</th>\n",
       "      <th>totChol</th>\n",
       "      <th>sysBP</th>\n",
       "      <th>diaBP</th>\n",
       "      <th>BMI</th>\n",
       "      <th>heartRate</th>\n",
       "      <th>glucose</th>\n",
       "      <th>TenYearCHD</th>\n",
       "    </tr>\n",
       "  </thead>\n",
       "  <tbody>\n",
       "    <tr>\n",
       "      <th>count</th>\n",
       "      <td>4238.000000</td>\n",
       "      <td>4238.000000</td>\n",
       "      <td>4133.000000</td>\n",
       "      <td>4238.000000</td>\n",
       "      <td>4209.000000</td>\n",
       "      <td>4185.000000</td>\n",
       "      <td>4238.000000</td>\n",
       "      <td>4238.000000</td>\n",
       "      <td>4238.000000</td>\n",
       "      <td>4188.000000</td>\n",
       "      <td>4238.000000</td>\n",
       "      <td>4238.000000</td>\n",
       "      <td>4219.000000</td>\n",
       "      <td>4237.000000</td>\n",
       "      <td>3850.000000</td>\n",
       "      <td>4238.000000</td>\n",
       "    </tr>\n",
       "    <tr>\n",
       "      <th>mean</th>\n",
       "      <td>0.429212</td>\n",
       "      <td>49.584946</td>\n",
       "      <td>1.978950</td>\n",
       "      <td>0.494101</td>\n",
       "      <td>9.003089</td>\n",
       "      <td>0.029630</td>\n",
       "      <td>0.005899</td>\n",
       "      <td>0.310524</td>\n",
       "      <td>0.025720</td>\n",
       "      <td>236.721585</td>\n",
       "      <td>132.352407</td>\n",
       "      <td>82.893464</td>\n",
       "      <td>25.802008</td>\n",
       "      <td>75.878924</td>\n",
       "      <td>81.966753</td>\n",
       "      <td>0.151958</td>\n",
       "    </tr>\n",
       "    <tr>\n",
       "      <th>std</th>\n",
       "      <td>0.495022</td>\n",
       "      <td>8.572160</td>\n",
       "      <td>1.019791</td>\n",
       "      <td>0.500024</td>\n",
       "      <td>11.920094</td>\n",
       "      <td>0.169584</td>\n",
       "      <td>0.076587</td>\n",
       "      <td>0.462763</td>\n",
       "      <td>0.158316</td>\n",
       "      <td>44.590334</td>\n",
       "      <td>22.038097</td>\n",
       "      <td>11.910850</td>\n",
       "      <td>4.080111</td>\n",
       "      <td>12.026596</td>\n",
       "      <td>23.959998</td>\n",
       "      <td>0.359023</td>\n",
       "    </tr>\n",
       "    <tr>\n",
       "      <th>min</th>\n",
       "      <td>0.000000</td>\n",
       "      <td>32.000000</td>\n",
       "      <td>1.000000</td>\n",
       "      <td>0.000000</td>\n",
       "      <td>0.000000</td>\n",
       "      <td>0.000000</td>\n",
       "      <td>0.000000</td>\n",
       "      <td>0.000000</td>\n",
       "      <td>0.000000</td>\n",
       "      <td>107.000000</td>\n",
       "      <td>83.500000</td>\n",
       "      <td>48.000000</td>\n",
       "      <td>15.540000</td>\n",
       "      <td>44.000000</td>\n",
       "      <td>40.000000</td>\n",
       "      <td>0.000000</td>\n",
       "    </tr>\n",
       "    <tr>\n",
       "      <th>25%</th>\n",
       "      <td>0.000000</td>\n",
       "      <td>42.000000</td>\n",
       "      <td>1.000000</td>\n",
       "      <td>0.000000</td>\n",
       "      <td>0.000000</td>\n",
       "      <td>0.000000</td>\n",
       "      <td>0.000000</td>\n",
       "      <td>0.000000</td>\n",
       "      <td>0.000000</td>\n",
       "      <td>206.000000</td>\n",
       "      <td>117.000000</td>\n",
       "      <td>75.000000</td>\n",
       "      <td>23.070000</td>\n",
       "      <td>68.000000</td>\n",
       "      <td>71.000000</td>\n",
       "      <td>0.000000</td>\n",
       "    </tr>\n",
       "    <tr>\n",
       "      <th>50%</th>\n",
       "      <td>0.000000</td>\n",
       "      <td>49.000000</td>\n",
       "      <td>2.000000</td>\n",
       "      <td>0.000000</td>\n",
       "      <td>0.000000</td>\n",
       "      <td>0.000000</td>\n",
       "      <td>0.000000</td>\n",
       "      <td>0.000000</td>\n",
       "      <td>0.000000</td>\n",
       "      <td>234.000000</td>\n",
       "      <td>128.000000</td>\n",
       "      <td>82.000000</td>\n",
       "      <td>25.400000</td>\n",
       "      <td>75.000000</td>\n",
       "      <td>78.000000</td>\n",
       "      <td>0.000000</td>\n",
       "    </tr>\n",
       "    <tr>\n",
       "      <th>75%</th>\n",
       "      <td>1.000000</td>\n",
       "      <td>56.000000</td>\n",
       "      <td>3.000000</td>\n",
       "      <td>1.000000</td>\n",
       "      <td>20.000000</td>\n",
       "      <td>0.000000</td>\n",
       "      <td>0.000000</td>\n",
       "      <td>1.000000</td>\n",
       "      <td>0.000000</td>\n",
       "      <td>263.000000</td>\n",
       "      <td>144.000000</td>\n",
       "      <td>89.875000</td>\n",
       "      <td>28.040000</td>\n",
       "      <td>83.000000</td>\n",
       "      <td>87.000000</td>\n",
       "      <td>0.000000</td>\n",
       "    </tr>\n",
       "    <tr>\n",
       "      <th>max</th>\n",
       "      <td>1.000000</td>\n",
       "      <td>70.000000</td>\n",
       "      <td>4.000000</td>\n",
       "      <td>1.000000</td>\n",
       "      <td>70.000000</td>\n",
       "      <td>1.000000</td>\n",
       "      <td>1.000000</td>\n",
       "      <td>1.000000</td>\n",
       "      <td>1.000000</td>\n",
       "      <td>696.000000</td>\n",
       "      <td>295.000000</td>\n",
       "      <td>142.500000</td>\n",
       "      <td>56.800000</td>\n",
       "      <td>143.000000</td>\n",
       "      <td>394.000000</td>\n",
       "      <td>1.000000</td>\n",
       "    </tr>\n",
       "  </tbody>\n",
       "</table>\n",
       "</div>"
      ],
      "text/plain": [
       "              male          age    education  currentSmoker   cigsPerDay   \n",
       "count  4238.000000  4238.000000  4133.000000    4238.000000  4209.000000  \\\n",
       "mean      0.429212    49.584946     1.978950       0.494101     9.003089   \n",
       "std       0.495022     8.572160     1.019791       0.500024    11.920094   \n",
       "min       0.000000    32.000000     1.000000       0.000000     0.000000   \n",
       "25%       0.000000    42.000000     1.000000       0.000000     0.000000   \n",
       "50%       0.000000    49.000000     2.000000       0.000000     0.000000   \n",
       "75%       1.000000    56.000000     3.000000       1.000000    20.000000   \n",
       "max       1.000000    70.000000     4.000000       1.000000    70.000000   \n",
       "\n",
       "            BPMeds  prevalentStroke  prevalentHyp     diabetes      totChol   \n",
       "count  4185.000000      4238.000000   4238.000000  4238.000000  4188.000000  \\\n",
       "mean      0.029630         0.005899      0.310524     0.025720   236.721585   \n",
       "std       0.169584         0.076587      0.462763     0.158316    44.590334   \n",
       "min       0.000000         0.000000      0.000000     0.000000   107.000000   \n",
       "25%       0.000000         0.000000      0.000000     0.000000   206.000000   \n",
       "50%       0.000000         0.000000      0.000000     0.000000   234.000000   \n",
       "75%       0.000000         0.000000      1.000000     0.000000   263.000000   \n",
       "max       1.000000         1.000000      1.000000     1.000000   696.000000   \n",
       "\n",
       "             sysBP        diaBP          BMI    heartRate      glucose   \n",
       "count  4238.000000  4238.000000  4219.000000  4237.000000  3850.000000  \\\n",
       "mean    132.352407    82.893464    25.802008    75.878924    81.966753   \n",
       "std      22.038097    11.910850     4.080111    12.026596    23.959998   \n",
       "min      83.500000    48.000000    15.540000    44.000000    40.000000   \n",
       "25%     117.000000    75.000000    23.070000    68.000000    71.000000   \n",
       "50%     128.000000    82.000000    25.400000    75.000000    78.000000   \n",
       "75%     144.000000    89.875000    28.040000    83.000000    87.000000   \n",
       "max     295.000000   142.500000    56.800000   143.000000   394.000000   \n",
       "\n",
       "        TenYearCHD  \n",
       "count  4238.000000  \n",
       "mean      0.151958  \n",
       "std       0.359023  \n",
       "min       0.000000  \n",
       "25%       0.000000  \n",
       "50%       0.000000  \n",
       "75%       0.000000  \n",
       "max       1.000000  "
      ]
     },
     "execution_count": 23,
     "metadata": {},
     "output_type": "execute_result"
    }
   ],
   "source": [
    "df=pd.read_csv('./heart_disease/data/framingham.csv')\n",
    "df.describe()"
   ]
  },
  {
   "cell_type": "code",
   "execution_count": 3,
   "id": "b2b29465-6d6a-4bbc-a0f8-99efa9dd58ef",
   "metadata": {},
   "outputs": [
    {
     "data": {
      "text/plain": [
       "male                 0\n",
       "age                  0\n",
       "education          105\n",
       "currentSmoker        0\n",
       "cigsPerDay          29\n",
       "BPMeds              53\n",
       "prevalentStroke      0\n",
       "prevalentHyp         0\n",
       "diabetes             0\n",
       "totChol             50\n",
       "sysBP                0\n",
       "diaBP                0\n",
       "BMI                 19\n",
       "heartRate            1\n",
       "glucose            388\n",
       "TenYearCHD           0\n",
       "dtype: int64"
      ]
     },
     "execution_count": 3,
     "metadata": {},
     "output_type": "execute_result"
    }
   ],
   "source": [
    "df.isna().sum()"
   ]
  },
  {
   "cell_type": "code",
   "execution_count": 4,
   "id": "6843b64c-4e23-4b93-a5b9-7753fd63607b",
   "metadata": {},
   "outputs": [
    {
     "data": {
      "text/plain": [
       "male               0\n",
       "age                0\n",
       "education          0\n",
       "currentSmoker      0\n",
       "cigsPerDay         0\n",
       "BPMeds             0\n",
       "prevalentStroke    0\n",
       "prevalentHyp       0\n",
       "diabetes           0\n",
       "totChol            0\n",
       "sysBP              0\n",
       "diaBP              0\n",
       "BMI                0\n",
       "heartRate          0\n",
       "glucose            0\n",
       "TenYearCHD         0\n",
       "dtype: int64"
      ]
     },
     "execution_count": 4,
     "metadata": {},
     "output_type": "execute_result"
    }
   ],
   "source": [
    "df[\"education\"] = df[\"education\"].fillna(df[\"education\"].mean())\n",
    "df[\"cigsPerDay\"] = df[\"cigsPerDay\"].fillna(df[\"cigsPerDay\"].mean())\n",
    "df[\"BPMeds\"] = df[\"BPMeds\"].fillna(df[\"BPMeds\"].mean())\n",
    "df[\"totChol\"] = df[\"totChol\"].fillna(df[\"totChol\"].mean())\n",
    "df[\"heartRate\"] = df[\"heartRate\"].fillna(df[\"heartRate\"].mean())\n",
    "df[\"glucose\"] = df[\"glucose\"].fillna(df[\"glucose\"].mean())\n",
    "df[\"BMI\"] = df[\"BMI\"].fillna(df[\"BMI\"].mean())\n",
    "df.isna().sum()"
   ]
  },
  {
   "cell_type": "code",
   "execution_count": 5,
   "id": "3b10b8ad-3e38-4ebc-8c2a-4e9b55259b51",
   "metadata": {},
   "outputs": [
    {
     "data": {
      "image/png": "[encoded data removed]",
      "text/plain": [
       "<Figure size 432x288 with 1 Axes>"
      ]
     },
     "metadata": {
      "needs_background": "light"
     },
     "output_type": "display_data"
    }
   ],
   "source": [
    "df[\"TenYearCHD\"].hist();"
   ]
  },
  {
   "cell_type": "code",
   "execution_count": 6,
   "id": "cc7e9356-39e5-41ee-ad01-a25cb9b15c23",
   "metadata": {},
   "outputs": [
    {
     "data": {
      "image/png": "[encoded data removed]",
      "text/plain": [
       "<Figure size 432x288 with 1 Axes>"
      ]
     },
     "metadata": {
      "needs_background": "light"
     },
     "output_type": "display_data"
    }
   ],
   "source": [
    "df[\"TenYearCHD\"] = df[\"TenYearCHD\"].apply(lambda x: 1 if x >= 0.5 else 0)\n",
    "df[\"TenYearCHD\"].hist();"
   ]
  },
  {
   "cell_type": "code",
   "execution_count": 7,
   "id": "8e5be189-b430-4618-a305-f5e720445977",
   "metadata": {},
   "outputs": [],
   "source": [
    "Y = df[\"TenYearCHD\"]\n",
    "X = df.drop(\"TenYearCHD\", axis=1) "
   ]
  },
  {
   "cell_type": "code",
   "execution_count": 8,
   "id": "75a806ca-967a-45c6-ae0a-e84fe16cd4df",
   "metadata": {},
   "outputs": [
    {
     "data": {
      "image/png": "[encoded data removed]",
      "text/plain": [
       "<Figure size 432x288 with 2 Axes>"
      ]
     },
     "metadata": {
      "needs_background": "light"
     },
     "output_type": "display_data"
    }
   ],
   "source": [
    "cor_matrix = X.corr()\n",
    "sns.heatmap(cor_matrix, annot=False, cmap = \"ocean\");"
   ]
  },
  {
   "cell_type": "code",
   "execution_count": 9,
   "id": "73951091-71b6-474c-8d0d-ef4f7a0b224d",
   "metadata": {},
   "outputs": [],
   "source": [
    "train_ratio = 0.70\n",
    "test_ratio = 0.15\n",
    "validation_ratio = 0.15\n",
    "\n",
    "X_train, X_test, Y_train, Y_test = train_test_split(X, Y, test_size=test_ratio)\n",
    "X_train, X_valid, Y_train, Y_valid = train_test_split(X_train, Y_train, test_size=validation_ratio/(train_ratio+test_ratio))"
   ]
  },
  {
   "cell_type": "code",
   "execution_count": 10,
   "id": "44d2e83c-836e-4ca9-a6d3-32c50013cb61",
   "metadata": {},
   "outputs": [
    {
     "name": "stdout",
     "output_type": "stream",
     "text": [
      "(2966, 15)\n",
      "(636, 15)\n",
      "(636, 15)\n"
     ]
    }
   ],
   "source": [
    "# Initialize the MinMaxScaler\n",
    "scaler = MinMaxScaler()\n",
    "\n",
    "# Fit and transform the dataframe to perform min-max scaling\n",
    "X_train = pd.DataFrame(scaler.fit_transform(X_train), columns=X_train.columns)\n",
    "X_valid = pd.DataFrame(scaler.fit_transform(X_valid), columns=X_valid.columns)\n",
    "X_test = pd.DataFrame(scaler.fit_transform(X_test), columns=X_test.columns)\n",
    "\n",
    "print(X_train.shape)\n",
    "print(X_valid.shape)\n",
    "print(X_test.shape)"
   ]
  },
  {
   "cell_type": "markdown",
   "id": "3b289a97-0580-451b-82ef-8ff2f5f2f341",
   "metadata": {},
   "source": [
    "# Generate Decision Tree Model."
   ]
  },
  {
   "cell_type": "code",
   "execution_count": 11,
   "id": "ebf02933-809b-406f-92e2-92012b186d6d",
   "metadata": {},
   "outputs": [
    {
     "name": "stdout",
     "output_type": "stream",
     "text": [
      "Best Hyperparameters:  {'criterion': 'entropy', 'max_depth': 5, 'max_features': 'sqrt'}\n",
      "\n",
      "Validation's RMSE: 0.402\n",
      "Validation's MAE: 0.162\n",
      "Validation's Acc: 0.838\n",
      "\n",
      "Test's RMSE: 0.366\n",
      "Test's MAE: 0.134\n",
      "Test's Acc: 0.866\n"
     ]
    }
   ],
   "source": [
    "dt_model = DecisionTreeClassifier()\n",
    "param_grid = {\n",
    "    \"criterion\": [\"gini\", \"entropy\"],\n",
    "    'max_depth': [5, 10, 15],\n",
    "    'max_features':[\"sqrt\", \"log2\", None]\n",
    "}\n",
    "\n",
    "grid_search_dt = GridSearchCV(dt_model, param_grid, cv=5)\n",
    "# fit the grid search object to the training data\n",
    "grid_search_dt.fit(X_train, Y_train)\n",
    "\n",
    "# get the best hyperparameters\n",
    "best_params_dt = grid_search_dt.best_params_\n",
    "\n",
    "# create a new random forest regressor with the best hyperparameters\n",
    "dt_model = DecisionTreeClassifier(max_depth=best_params_dt['max_depth'], criterion=best_params_dt[\"criterion\"], max_features=best_params_dt['max_features'])\n",
    "\n",
    "# fit the model to the training data\n",
    "dt_model.fit(X_train, Y_train)\n",
    "\n",
    "# generate predictions on the training data\n",
    "dt_train_pred = dt_model.predict(X_train)\n",
    "\n",
    "# evaluate the model on the validation data\n",
    "dt_valid_pred = dt_model.predict(X_valid)\n",
    "\n",
    "# generate predictions on the testing data\n",
    "dt_test_pred = dt_model.predict(X_test)\n",
    "\n",
    "rmse_dt_valid = mean_squared_error(Y_valid, dt_valid_pred, squared=False)\n",
    "mae_dt_valid = mean_absolute_error(Y_valid, dt_valid_pred)\n",
    "rmse_dt_test = mean_squared_error(Y_test, dt_test_pred, squared=False)\n",
    "mae_dt_test= mean_absolute_error(Y_test, dt_test_pred)\n",
    "\n",
    "accuracy_dt_valid = accuracy_score(Y_valid, dt_valid_pred)\n",
    "accuracy_dt_test = accuracy_score(Y_test, dt_test_pred)\n",
    "\n",
    "print(\"Best Hyperparameters: \", best_params_dt)\n",
    "print(\"\\nValidation's RMSE: {:.3f}\".format(rmse_dt_valid))\n",
    "print(\"Validation's MAE: {:.3f}\".format(mae_dt_valid))\n",
    "print(\"Validation's Acc: {:.3f}\\n\".format(accuracy_dt_valid))\n",
    "\n",
    "print(\"Test's RMSE: {:.3f}\".format(rmse_dt_test))\n",
    "print(\"Test's MAE: {:.3f}\".format(mae_dt_test))\n",
    "print(\"Test's Acc: {:.3f}\".format(accuracy_dt_test))"
   ]
  },
  {
   "cell_type": "markdown",
   "id": "d783fd6c-3108-42f0-8b26-e2f2bff0e385",
   "metadata": {},
   "source": [
    "# Random Forest Model."
   ]
  },
  {
   "cell_type": "code",
   "execution_count": 12,
   "id": "0f71c655-412c-4696-8f74-e93915a04984",
   "metadata": {},
   "outputs": [
    {
     "name": "stdout",
     "output_type": "stream",
     "text": [
      "Best Hyperparameters:  {'criterion': 'gini', 'max_depth': 5, 'n_estimators': 100}\n",
      "\n",
      "Validation's RMSE: 0.402\n",
      "Validation's MAE: 0.162\n",
      "Validation's Acc: 0.838\n",
      "\n",
      "Test's RMSE: 0.363\n",
      "Test's MAE: 0.132\n",
      "Test's Acc: 0.868\n"
     ]
    }
   ],
   "source": [
    "rf_model = RandomForestClassifier()\n",
    "param_grid_rf = {\n",
    "    \"criterion\": [\"gini\", \"entropy\"],\n",
    "    'n_estimators': [100, 500, 1000],\n",
    "    'max_depth': [5, 10, 15]\n",
    "}\n",
    "\n",
    "grid_search_rf = GridSearchCV(rf_model, param_grid_rf, cv=5)\n",
    "# fit the grid search object to the training data\n",
    "grid_search_rf.fit(X_train, Y_train)\n",
    "\n",
    "# get the best hyperparameters\n",
    "best_params_rf = grid_search_rf.best_params_\n",
    "\n",
    "# create a new random forest regressor with the best hyperparameters\n",
    "rf_model = RandomForestClassifier(n_estimators=best_params_rf['n_estimators'], max_depth=best_params_rf['max_depth'], criterion=best_params_rf[\"criterion\"])\n",
    "\n",
    "# fit the model to the training data\n",
    "rf_model.fit(X_train, Y_train)\n",
    "\n",
    "# generate predictions on the training data\n",
    "rf_train_pred = rf_model.predict(X_train)\n",
    "\n",
    "# evaluate the model on the validation data\n",
    "rf_valid_pred = rf_model.predict(X_valid)\n",
    "\n",
    "# generate predictions on the testing data\n",
    "rf_test_pred = rf_model.predict(X_test)\n",
    "\n",
    "rmse_rf_valid = mean_squared_error(Y_valid, rf_valid_pred, squared=False)\n",
    "mae_rf_valid = mean_absolute_error(Y_valid, rf_valid_pred)\n",
    "rmse_rf_test = mean_squared_error(Y_test, rf_test_pred, squared=False)\n",
    "mae_rf_test= mean_absolute_error(Y_test, rf_test_pred)\n",
    "\n",
    "accuracy_rf_valid = accuracy_score(Y_valid, rf_valid_pred)\n",
    "accuracy_rf_test = accuracy_score(Y_test, rf_test_pred)\n",
    "\n",
    "print(\"Best Hyperparameters: \", best_params_rf)\n",
    "print(\"\\nValidation's RMSE: {:.3f}\".format(rmse_rf_valid))\n",
    "print(\"Validation's MAE: {:.3f}\".format(mae_rf_valid))\n",
    "print(\"Validation's Acc: {:.3f}\\n\".format(accuracy_rf_valid))\n",
    "\n",
    "print(\"Test's RMSE: {:.3f}\".format(rmse_rf_test))\n",
    "print(\"Test's MAE: {:.3f}\".format(mae_rf_test))\n",
    "print(\"Test's Acc: {:.3f}\".format(accuracy_rf_test))"
   ]
  },
  {
   "cell_type": "markdown",
   "id": "a110500b-39f6-465e-8121-d8ddebbad61c",
   "metadata": {},
   "source": [
    "# eXtreme Gradient Boosting (XGB) modeling."
   ]
  },
  {
   "cell_type": "code",
   "execution_count": 13,
   "id": "640fc875-7caa-46b4-8260-f2031ce27f57",
   "metadata": {},
   "outputs": [
    {
     "name": "stdout",
     "output_type": "stream",
     "text": [
      "Best Hyperparameters:  {'colsample_bytree': 0.5, 'learning_rate': 0.01, 'max_depth': 9, 'n_estimators': 100}\n",
      "\n",
      "Validation's RMSE: 0.404\n",
      "Validation's MAE: 0.164\n",
      "Validation's Acc: 0.836\n",
      "\n",
      "Test's RMSE: 0.361\n",
      "Test's MAE: 0.131\n",
      "Test's Acc: 0.869\n",
      "\n"
     ]
    }
   ],
   "source": [
    "# Define the XGBoost model\n",
    "xgb_model = xgb.XGBClassifier()\n",
    "\n",
    "# Define the hyperparameter grid\n",
    "param_grid_xgb = {\n",
    "    'n_estimators': [100, 500, 1000],\n",
    "    'learning_rate': [0.01, 0.05, 0.1],\n",
    "    'max_depth': [3, 6, 9],\n",
    "    'colsample_bytree': [0.5, 0.7, 1.0],\n",
    "}\n",
    "\n",
    "# Perform grid search\n",
    "grid_search_xgb = GridSearchCV(\n",
    "    estimator=xgb_model,\n",
    "    param_grid=param_grid_xgb,\n",
    "    cv=5\n",
    ")\n",
    "\n",
    "grid_search_xgb.fit(X_train, Y_train, verbose=False)\n",
    "\n",
    "# Get the best hyperparameters\n",
    "best_params_xgb = grid_search_xgb.best_params_\n",
    "\n",
    "# Create a new XGBoost model with the best hyperparameters\n",
    "xgb_model = xgb.XGBClassifier(\n",
    "    n_estimators=best_params_xgb['n_estimators'],\n",
    "    learning_rate=best_params_xgb['learning_rate'],\n",
    "    max_depth=best_params_xgb['max_depth'],\n",
    "    colsample_bytree=best_params_xgb['colsample_bytree']\n",
    ")\n",
    "\n",
    "# Fit the model with the best hyperparameters on the training data\n",
    "xgb_model.fit(X_train, Y_train, verbose=False)\n",
    "\n",
    "# Generate predictions on the training data\n",
    "xgb_train_pred = xgb_model.predict(X_train)\n",
    "\n",
    "# Generate predictions on the validation data\n",
    "xgb_valid_pred = xgb_model.predict(X_valid)\n",
    "\n",
    "# generate predictions on the testing data\n",
    "xgb_test_pred = xgb_model.predict(X_test)\n",
    "\n",
    "# Evaluate the model on the validation data\n",
    "rmse_xgb_valid = mean_squared_error(Y_valid, xgb_valid_pred, squared=False)\n",
    "mae_xgb_valid = mean_absolute_error(Y_valid, xgb_valid_pred)\n",
    "\n",
    "# Evaluate the model on the testing data\n",
    "rmse_xgb_test = mean_squared_error(Y_test, xgb_test_pred, squared=False)\n",
    "mae_xgb_test= mean_absolute_error(Y_test, xgb_test_pred)\n",
    "\n",
    "accuracy_xgb_valid = accuracy_score(Y_valid, xgb_valid_pred)\n",
    "accuracy_xgb_test = accuracy_score(Y_test, xgb_test_pred)\n",
    "\n",
    "# Print the results\n",
    "print(\"Best Hyperparameters: \", best_params_xgb)\n",
    "print(\"\\nValidation's RMSE: {:.3f}\".format(rmse_xgb_valid))\n",
    "print(\"Validation's MAE: {:.3f}\".format(mae_xgb_valid))\n",
    "print(\"Validation's Acc: {:.3f}\\n\".format(accuracy_xgb_valid))\n",
    "\n",
    "print(\"Test's RMSE: {:.3f}\".format(rmse_xgb_test))\n",
    "print(\"Test's MAE: {:.3f}\".format(mae_xgb_test))\n",
    "print(\"Test's Acc: {:.3f}\\n\".format(accuracy_xgb_test))"
   ]
  },
  {
   "cell_type": "markdown",
   "id": "de346d08-1df7-483d-a505-1250d40ce727",
   "metadata": {},
   "source": [
    "# Neural Network Classifier."
   ]
  },
  {
   "cell_type": "code",
   "execution_count": 14,
   "id": "6ff95707-7798-4567-8d15-f174b790991f",
   "metadata": {},
   "outputs": [
    {
     "name": "stdout",
     "output_type": "stream",
     "text": [
      "Best Hyperparameters:  {'activation': 'tanh', 'alpha': 0.1, 'hidden_layer_sizes': (256, 128, 64, 32, 16, 8, 4, 2), 'max_iter': 3000}\n",
      "\n",
      "Validation's RMSE: 0.399\n",
      "Validation's MAE: 0.159\n",
      "Validation's Acc: 0.841\n",
      "\n",
      "Test's RMSE: 0.372\n",
      "Test's MAE: 0.138\n",
      "Test's Acc: 0.862\n",
      "\n"
     ]
    }
   ],
   "source": [
    "# Define the MLPClassifier model\n",
    "NN_model = MLPClassifier()\n",
    "\n",
    "# Define the hyperparameter grid\n",
    "param_grid_NN = {\n",
    "    'hidden_layer_sizes': [(64, 32, 16, 8, 4, 2), (32, 16, 8, 4, 2), (64, 32, 16, 4, 2),(256, 128, 64, 32, 16, 8, 4, 2)],\n",
    "    'max_iter': [1000, 2000, 3000],\n",
    "    'alpha': [0.1, 0.01, 0.001],\n",
    "    'activation': ['tanh', 'logistic', 'relu']\n",
    "}\n",
    "\n",
    "# Perform grid search\n",
    "grid_search_NN = GridSearchCV(\n",
    "    estimator=NN_model,\n",
    "    param_grid=param_grid_NN,\n",
    "    cv=5\n",
    ")\n",
    "\n",
    "grid_search_NN.fit(X_train, Y_train)\n",
    "\n",
    "# Get the best hyperparameters\n",
    "best_params_NN = grid_search_NN.best_params_\n",
    "\n",
    "# Create a new MLPClassifier model with the best hyperparameters\n",
    "NN_model = MLPClassifier(\n",
    "    hidden_layer_sizes=best_params_NN['hidden_layer_sizes'],\n",
    "    max_iter=best_params_NN['max_iter'],\n",
    "    alpha=best_params_NN['alpha'],\n",
    "    activation=best_params_NN['activation']\n",
    ")\n",
    "\n",
    "# Fit the model with the best hyperparameters on the training data\n",
    "NN_model.fit(X_train, Y_train)\n",
    "\n",
    "# Generate predictions on the training data\n",
    "NN_train_pred = NN_model.predict(X_train)\n",
    "\n",
    "# Generate predictions on the validation data\n",
    "NN_valid_pred = NN_model.predict(X_valid)\n",
    "\n",
    "# generate predictions on the testing data\n",
    "NN_test_pred = NN_model.predict(X_test)\n",
    "\n",
    "# Evaluate the model on the validation data\n",
    "rmse_NN_valid = mean_squared_error(Y_valid, NN_valid_pred, squared=False)\n",
    "mae_NN_valid = mean_absolute_error(Y_valid, NN_valid_pred)\n",
    "\n",
    "# Evaluate the model on the testing data\n",
    "rmse_NN_test = mean_squared_error(Y_test, NN_test_pred, squared=False)\n",
    "mae_NN_test = mean_absolute_error(Y_test, NN_test_pred)\n",
    "\n",
    "accuracy_NN_valid = accuracy_score(Y_valid, NN_valid_pred)\n",
    "accuracy_NN_test = accuracy_score(Y_test, NN_test_pred)\n",
    "\n",
    "# Print the results\n",
    "print(\"Best Hyperparameters: \", best_params_NN)\n",
    "print(\"\\nValidation's RMSE: {:.3f}\".format(rmse_NN_valid))\n",
    "print(\"Validation's MAE: {:.3f}\".format(mae_NN_valid))\n",
    "print(\"Validation's Acc: {:.3f}\\n\".format(accuracy_NN_valid))\n",
    "\n",
    "print(\"Test's RMSE: {:.3f}\".format(rmse_NN_test))\n",
    "print(\"Test's MAE: {:.3f}\".format(mae_NN_test))\n",
    "print(\"Test's Acc: {:.3f}\\n\".format(accuracy_NN_test))"
   ]
  },
  {
   "cell_type": "markdown",
   "id": "b18340a6-ddde-42e7-b6c6-3df51334b83e",
   "metadata": {},
   "source": [
    "# Plot the RMSE, MAE, and Accuracy values for the Validation and Testing dataset."
   ]
  },
  {
   "cell_type": "code",
   "execution_count": 24,
   "id": "6b8708ce-c5f2-4918-900d-9a15fec6c87a",
   "metadata": {},
   "outputs": [
    {
     "data": {
      "image/png": "[encoded data removed]",
      "text/plain": [
       "<Figure size 864x720 with 3 Axes>"
      ]
     },
     "metadata": {
      "needs_background": "light"
     },
     "output_type": "display_data"
    }
   ],
   "source": [
    "rmse_valid = [rmse_dt_valid, rmse_rf_valid, rmse_xgb_valid, rmse_NN_valid]\n",
    "mae_valid = [mae_dt_valid, mae_rf_valid, mae_xgb_valid, mae_NN_valid]\n",
    "\n",
    "rmse_test = [rmse_dt_test, rmse_rf_test, rmse_xgb_test, rmse_NN_test]\n",
    "mae_test = [mae_dt_test, mae_rf_test, mae_xgb_test, mae_NN_test]\n",
    "\n",
    "acc_valid = [accuracy_dt_valid, accuracy_rf_valid, accuracy_xgb_valid, accuracy_NN_valid]\n",
    "acc_test = [accuracy_dt_test, accuracy_rf_test, accuracy_xgb_test, accuracy_NN_test]\n",
    "\n",
    "model_labels = ['Decision Tree', 'Random Forest', 'XGB', 'Neural Network']\n",
    "\n",
    "train_positions = np.arange(len(model_labels))\n",
    "bar_width = 0.2  # Width of each bar\n",
    "\n",
    "plt.figure(figsize=(12, 10))\n",
    "\n",
    "ax1 = plt.subplot(1, 3, 1)\n",
    "ax1.bar(train_positions - bar_width/2, rmse_valid, color='blue', width=bar_width, label='Validation')\n",
    "ax1.bar(train_positions + bar_width/2, rmse_test, color='red', width=bar_width, label='Test')\n",
    "ax1.set_title('RMSE of Validation and Test Sets', fontsize=12)\n",
    "ax1.set_ylabel('RMSE', fontsize=12)\n",
    "ax1.set_ylim(0, 1)\n",
    "ax1.set_xticks(train_positions)\n",
    "ax1.set_xticklabels(model_labels, fontsize=12, rotation=45)\n",
    "ax1.legend(loc=\"best\")\n",
    "ax1.minorticks_on()\n",
    "ax1.tick_params(top=True, right=True, which='both', direction='in', length=8)\n",
    "ax1.tick_params(top=True, right=True, which='minor', direction='in', length=4)\n",
    "\n",
    "ax2 = plt.subplot(1, 3, 2)\n",
    "ax2.bar(train_positions - bar_width/2, mae_valid, color='blue', width=bar_width, label='Validation')\n",
    "ax2.bar(train_positions + bar_width/2, mae_test, color='red', width=bar_width, label='Test')\n",
    "ax2.set_title('MAE of Validation and Test Sets', fontsize=12)\n",
    "ax2.set_ylabel('MAE', fontsize=12)\n",
    "ax2.set_ylim(0, 1)\n",
    "ax2.set_xticks(train_positions)\n",
    "ax2.set_xticklabels(model_labels, fontsize=12, rotation=45)\n",
    "ax2.legend(loc=\"best\")\n",
    "ax2.minorticks_on()\n",
    "ax2.tick_params(top=True, right=True, which='both', direction='in', length=8)\n",
    "ax2.tick_params(top=True, right=True, which='minor', direction='in', length=4)\n",
    "\n",
    "ax3 = plt.subplot(1, 3, 3)\n",
    "ax3.bar(train_positions - bar_width/2, acc_valid, color='blue', width=bar_width, label='Validation')\n",
    "ax3.bar(train_positions + bar_width/2, acc_test, color='red', width=bar_width, label='Test')\n",
    "ax3.set_title('Accuracy of Validation and Test Sets', fontsize=12)\n",
    "ax3.set_ylabel('Acc. (%)', fontsize=12)\n",
    "ax3.set_ylim(0, 1)\n",
    "ax3.set_xticks(train_positions)\n",
    "ax3.set_xticklabels(model_labels, fontsize=12, rotation=45)\n",
    "ax3.legend(loc=\"best\")\n",
    "ax3.minorticks_on()\n",
    "ax3.tick_params(top=True, right=True, which='both', direction='in', length=8)\n",
    "ax3.tick_params(top=True, right=True, which='minor', direction='in', length=4)\n",
    "\n",
    "plt.tight_layout()\n",
    "plt.savefig(\"./heart_disease/images/metrics.png\")\n",
    "plt.show()"
   ]
  },
  {
   "cell_type": "markdown",
   "id": "f8670194-07b4-4e20-8623-7556cb945056",
   "metadata": {},
   "source": [
    "# Pick the Neural Network model."
   ]
  },
  {
   "cell_type": "code",
   "execution_count": 18,
   "id": "0e111d95-76d6-406d-9cc6-e364339ebbff",
   "metadata": {},
   "outputs": [
    {
     "name": "stdout",
     "output_type": "stream",
     "text": [
      "Accuracy: 0.841\n",
      "Precision: 0.579\n",
      "Recall: 0.106\n",
      "F1-Score: 0.179\n",
      "RMSE: 0.399\n",
      "MAE: 0.159\n",
      "Train AUC: 0.747\n",
      "Valid AUC: 0.728\n",
      "Mean CV score: 0.847\n",
      "Confusion matrix:\n",
      " [[524   8]\n",
      " [ 93  11]]\n"
     ]
    }
   ],
   "source": [
    "Y_train_proba = NN_model.predict_proba(X_train)[:, 1] # Probability of positive class\n",
    "Y_valid_proba = NN_model.predict_proba(X_valid)[:, 1] # Probability of positive class\n",
    "\n",
    "# Calculate evaluation metrics for the validation dataset\n",
    "accuracy = accuracy_score(Y_valid, NN_valid_pred)\n",
    "precision = precision_score(Y_valid, NN_valid_pred, average=\"binary\")\n",
    "recall = recall_score(Y_valid, NN_valid_pred, average=\"binary\")\n",
    "f1 = f1_score(Y_valid, NN_valid_pred, average=\"binary\")\n",
    "train_auc = roc_auc_score(Y_train, Y_train_proba)\n",
    "valid_auc = roc_auc_score(Y_valid, Y_valid_proba)\n",
    "conf_matrix = confusion_matrix(Y_valid, NN_valid_pred)\n",
    "cv_scores = cross_val_score(NN_model, X, Y, cv=5)\n",
    "rmse = mean_squared_error(Y_valid, NN_valid_pred, squared=False) \n",
    "mae = mean_absolute_error(Y_valid, NN_valid_pred)\n",
    "\n",
    "#Print the evaluation metrics\n",
    "print(\"Accuracy: {:.3f}\".format(accuracy))\n",
    "print(\"Precision: {:.3f}\".format(precision))\n",
    "print(\"Recall: {:.3f}\".format(recall))\n",
    "print(\"F1-Score: {:.3f}\".format(f1))\n",
    "print(\"RMSE: {:.3f}\".format(rmse))\n",
    "print(\"MAE: {:.3f}\".format(mae))\n",
    "print(\"Train AUC: {:.3f}\".format(train_auc))\n",
    "print(\"Valid AUC: {:.3f}\".format(valid_auc))\n",
    "print('Mean CV score: {:.3f}'.format(cv_scores.mean()))\n",
    "print(\"Confusion matrix:\\n\", conf_matrix)"
   ]
  },
  {
   "cell_type": "code",
   "execution_count": 25,
   "id": "e6faab50-1469-4e44-92c5-220ec6ba82d8",
   "metadata": {},
   "outputs": [
    {
     "data": {
      "image/png": "[encoded data removed]",
      "text/plain": [
       "<Figure size 576x576 with 1 Axes>"
      ]
     },
     "metadata": {
      "needs_background": "light"
     },
     "output_type": "display_data"
    }
   ],
   "source": [
    "fig, ax = plt.subplots(figsize=(8, 8))\n",
    "# Compute the false positive rate, true positive rate, and threshold values required for plotting the ROC curve\n",
    "fpr, tpr, thresholds = roc_curve(Y_valid, NN_valid_pred)\n",
    "\n",
    "# Plot the ROC curve\n",
    "plt.plot(fpr, tpr, label='AUC = {:.3f}'.format(valid_auc), color=\"blue\")\n",
    "plt.plot([0, 1], [0, 1], linestyle='--', label='Random Classifier', color=\"red\")\n",
    "plt.xlabel('False Positive Rate', fontsize=12)\n",
    "\n",
    "ax.minorticks_on()\n",
    "ax.xaxis.set_ticks_position(\"both\")\n",
    "ax.tick_params(top=True, right=True, which='major', direction='in', length=8, labelbottom=True, labeltop=False)\n",
    "ax.tick_params(top=True, right=True, which='minor', direction='in', length=4)\n",
    "ax.set_ylim(0,1.01)\n",
    "ax.set_xlim(-0.01,1)\n",
    "plt.ylabel('True Positive Rate', fontsize=12)\n",
    "plt.title('Receiver Operating Characteristic (ROC) Curve', fontsize=12)\n",
    "plt.legend(loc=\"lower right\", frameon=False)\n",
    "fig.tight_layout()\n",
    "plt.savefig(\"./heart_disease/images/roc.png\")\n",
    "plt.show();"
   ]
  },
  {
   "cell_type": "code",
   "execution_count": null,
   "id": "d2db893c-b9e6-4652-906b-a474f7336edd",
   "metadata": {},
   "outputs": [],
   "source": []
  }
 ],
 "metadata": {
  "kernelspec": {
   "display_name": "Python 3 (ipykernel)",
   "language": "python",
   "name": "python3"
  },
  "language_info": {
   "codemirror_mode": {
    "name": "ipython",
    "version": 3
   },
   "file_extension": ".py",
   "mimetype": "text/x-python",
   "name": "python",
   "nbconvert_exporter": "python",
   "pygments_lexer": "ipython3",
   "version": "3.9.12"
  }
 },
 "nbformat": 4,
 "nbformat_minor": 5
}
